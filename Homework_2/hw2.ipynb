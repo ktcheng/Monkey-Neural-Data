{
 "cells": [
  {
   "cell_type": "markdown",
   "metadata": {},
   "source": [
    "# HW2 Coding\n",
    "\n",
    "This workbook will walk you through the plotting problem 2(f) in HW2. It will also provide familiarity with Jupyter Notebook and Python. Please print (to pdf) a completed version of this workbook for submission with HW2.\n",
    "\n",
    "ECE C143A/C243A, Spring Quarter 2020, Prof. J.C. Kao, TAs J. Lee, T. Monsoor"
   ]
  },
  {
   "cell_type": "markdown",
   "metadata": {},
   "source": [
    "## Import library"
   ]
  },
  {
   "cell_type": "code",
   "execution_count": 1,
   "metadata": {},
   "outputs": [],
   "source": [
    "import numpy as np \n",
    "import matplotlib.pyplot as plt"
   ]
  },
  {
   "cell_type": "markdown",
   "metadata": {},
   "source": [
    "## Define the function"
   ]
  },
  {
   "cell_type": "markdown",
   "metadata": {},
   "source": [
    "The function below, ``ptc()`` accepts the average firing rates at three targets and learns the parameters $c_0, c_1,$ and $\\theta$ of the tuning curve.  Please implement this function below.  You may evaluate your execution by running the code under section \"Plot the figure,\" which calculates the tuning parameters using your implementation of ``ptc()``.  The output should appear reasonable."
   ]
  },
  {
   "cell_type": "code",
   "execution_count": 2,
   "metadata": {},
   "outputs": [],
   "source": [
    "def ptc(y0 , y1 , y2):\n",
    "    #PTC calculates the tuning curve given average firing rates for certain directions.\n",
    "    \n",
    "    # ================================================================ #\n",
    "    # YOUR CODE HERE:\n",
    "    #  The function takes three inputs corresponding to the average \n",
    "    #  firing rate of a neuron during a reach to 0 degrees (y0), 120 \n",
    "    #  degrees (y1) and 240 degrees (y2). The outputs, c0, c1, and \n",
    "    #  theta0 are the parameters of the tuning curve.\n",
    "    # ================================================================ #\n",
    "    \n",
    "    k0 = (y0 + y1 + y2) / 3 # Calculate k0\n",
    "    k1 = (np.sqrt(3) * y1 - np.sqrt(3) * y2) / 3 # Calculate k1\n",
    "    k2 = (2 * y0 - y1 - y2) / 3 # Calculate k2\n",
    "\n",
    "    # Calculate c0, c1, theta0 based on our k0, k1, k2 values\n",
    "    c0 = k0\n",
    "    c1 = np.sqrt(k1 ** 2 + k2 ** 2)\n",
    "    theta0 = 180 - (np.arcsin(k1 / c1) * 180 / np.pi)\n",
    "\n",
    "    # ================================================================ #\n",
    "    # END YOUR CODE HERE\n",
    "    # ================================================================ #\n",
    "\n",
    "    return c0,c1,theta0"
   ]
  },
  {
   "cell_type": "markdown",
   "metadata": {},
   "source": [
    "## Plot the figure"
   ]
  },
  {
   "cell_type": "markdown",
   "metadata": {},
   "source": [
    "The following cells execute your PTC function, printing out the values and plotting the tuning curve."
   ]
  },
  {
   "cell_type": "code",
   "execution_count": 3,
   "metadata": {
    "scrolled": true
   },
   "outputs": [
    {
     "name": "stdout",
     "output_type": "stream",
     "text": [
      "c0 =  35.0\n",
      "c1 =  36.0555127546399\n",
      "theta0 =  106.10211375198602\n"
     ]
    }
   ],
   "source": [
    "c0, c1, theta0=ptc(25,70,10)\n",
    "print('c0 = ', c0)\n",
    "print('c1 = ', c1)\n",
    "print('theta0 = ', theta0)"
   ]
  },
  {
   "cell_type": "code",
   "execution_count": 4,
   "metadata": {},
   "outputs": [
    {
     "data": {
      "image/png": "[encoded data removed]",
      "text/plain": [
       "<Figure size 432x288 with 1 Axes>"
      ]
     },
     "metadata": {
      "needs_background": "light"
     },
     "output_type": "display_data"
    }
   ],
   "source": [
    "theta = np.linspace(0, 2*np.pi, num=80)\n",
    "plt.plot([0,120,240],[25,70,10],'r*',10)\n",
    "plt.plot(theta * 180 / np.pi,c0 + c1 *np.cos(theta - theta0 * np.pi/180),'b',2)\n",
    "plt.xlim ([-10 ,370])\n",
    "plt.ylim ([-10,80])\n",
    "plt.xlabel(r'$\\theta$ (degrees)');\n",
    "plt.ylabel(r'$f(\\theta)$');"
   ]
  }
 ],
 "metadata": {
  "kernelspec": {
   "display_name": "Python 3",
   "language": "python",
   "name": "python3"
  },
  "language_info": {
   "codemirror_mode": {
    "name": "ipython",
    "version": 3
   },
   "file_extension": ".py",
   "mimetype": "text/x-python",
   "name": "python",
   "nbconvert_exporter": "python",
   "pygments_lexer": "ipython3",
   "version": "3.7.6"
  }
 },
 "nbformat": 4,
 "nbformat_minor": 2
}
