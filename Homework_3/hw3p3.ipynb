{
 "cells": [
  {
   "cell_type": "markdown",
   "metadata": {},
   "source": [
    "## Homework 3, Problem 3 on inhomogeneous Poisson processes\n",
    "\n",
    "ECE C143A/C243A, Spring Quarter 2020, Prof. J.C. Kao, TAs J. Lee, T. Monsoor.\n"
   ]
  },
  {
   "cell_type": "markdown",
   "metadata": {},
   "source": [
    " In this problem, we will use the same simulated neuron as in\n",
    "  Problem 2, but now the reaching angle $s$ will be time-dependent\n",
    "  with the following form:\n",
    "$$ s(t) = t^2 \\cdot \\pi,$$\n",
    "\n",
    "where $t$ ranges between 0 and 1 second. This will be refered as *s(t)* equation in the questions.\n"
   ]
  },
  {
   "cell_type": "code",
   "execution_count": 1,
   "metadata": {},
   "outputs": [],
   "source": [
    "\"\"\"\n",
    "ECE C143/C243 Homework-3 Problem-3\n",
    "\n",
    "\"\"\"\n",
    "import numpy as np\n",
    "import matplotlib.pyplot as plt\n",
    "import nsp as nsp # these are helper functions that we provide.\n",
    "import scipy.special\n",
    "\n",
    "# Load matplotlib images inline\n",
    "%matplotlib inline\n",
    "\n",
    "# Reloading any code written in external .py files.\n",
    "%load_ext autoreload\n",
    "%autoreload 2"
   ]
  },
  {
   "cell_type": "markdown",
   "metadata": {},
   "source": [
    "### (a) (6 points) Spike trains\n",
    "Generate 100 spike trains, each 1 second in duration, according to\n",
    "an inhomogeneous Poisson process with a firing rate profile defined\n",
    "by tuning equation, $$\\lambda(s) = r_0 + (r_\\text{max} - r_0)\\cos(s-s_\\text{max})$$ \n",
    "and the $s(t)$ equation, $$ s(t) = t^2 \\cdot \\pi$$"
   ]
  },
  {
   "cell_type": "code",
   "execution_count": 2,
   "metadata": {},
   "outputs": [],
   "source": [
    "r_0 = 35 # (spikes/s)\n",
    "r_max = 60 # (spikes/s)\n",
    "s_max = np.pi/2 # (radians)\n",
    "T = 1000 # trial length (ms)"
   ]
  },
  {
   "cell_type": "code",
   "execution_count": 3,
   "metadata": {},
   "outputs": [
    {
     "data": {
      "text/plain": [
       "14.189805542404116"
      ]
     },
     "execution_count": 3,
     "metadata": {},
     "output_type": "execute_result"
    }
   ],
   "source": [
    "np.random.exponential(1.0/r_max * 1000)"
   ]
  },
  {
   "cell_type": "code",
   "execution_count": 4,
   "metadata": {},
   "outputs": [
    {
     "data": {
      "image/png": "[encoded data removed]",
      "text/plain": [
       "<Figure size 720x576 with 1 Axes>"
      ]
     },
     "metadata": {
      "needs_background": "light"
     },
     "output_type": "display_data"
    }
   ],
   "source": [
    "## 3a\n",
    "num_trials = 100 # number of total spike trains\n",
    "num_rasters_to_plot = 5 # number of spike trains to plot\n",
    "#====================================================#\n",
    "# YOUR CODE HERE:\n",
    "#   Generate the spike times for 100 trials of an inhomogeneous\n",
    "#   Poisson process.  Plot 5 example spike rasters.\n",
    "#====================================================#\n",
    "# Stores all 100 spike trains\n",
    "inhom_spike_times = np.zeros((num_trials), dtype = list) \n",
    "\n",
    "for trial in range(num_trials):\n",
    "    # Generate homogeneous Poisson Process, removing first time of 0.0\n",
    "    homogeneous_spike_train = nsp.GeneratePoissonSpikeTrain(T, r_max)[1:]\n",
    "    inhom_spike_train = np.empty(0) # Stores inhomogeneous spike train\n",
    "    \n",
    "    for spike in homogeneous_spike_train:\n",
    "        s = ((spike / 1000.0) ** 2.0) * np.pi # Calculate s(t)\n",
    "        l = r_0 + (r_max - r_0) * np.cos(s - s_max)\n",
    "        \n",
    "        threshold = l / r_max # Probability we keep the spike\n",
    "        u = np.random.uniform(0, 1) # Sample from uniform distribution\n",
    "        \n",
    "        if (threshold >= u): # In this case keep the spike\n",
    "            inhom_spike_train = np.append(inhom_spike_train, spike)\n",
    "            \n",
    "    inhom_spike_times[trial] = inhom_spike_train\n",
    "\n",
    "# Plot five example spike rasters\n",
    "plt.figure(figsize = (10, 8))\n",
    "nsp.PlotSpikeRaster(inhom_spike_times[0:num_rasters_to_plot])\n",
    "    \n",
    "plt.title(\"5 Example Spike Rasters\")\n",
    "plt.tight_layout()\n",
    "#====================================================#\n",
    "# END YOUR CODE\n",
    "#====================================================#"
   ]
  },
  {
   "cell_type": "markdown",
   "metadata": {},
   "source": [
    "### (b) (5 points) Spike histogram\n",
    "  Plot the spike histogram by taking spike counts in non-overlapping\n",
    "  20 ms bins, then averaging across the 100 trials.  The spike\n",
    "  histogram should have firing rate (in spikes / second) as the\n",
    "  vertical axis and time (in msec, not time bin index) as the\n",
    "  horizontal axis. Plot the expected firing rate profile defined by equations\n",
    " tuning equation and *s(t)* equation on the same plot. "
   ]
  },
  {
   "cell_type": "code",
   "execution_count": 5,
   "metadata": {},
   "outputs": [
    {
     "data": {
      "text/plain": [
       "Text(0.5, 0, 'Time(ms)')"
      ]
     },
     "execution_count": 5,
     "metadata": {},
     "output_type": "execute_result"
    },
    {
     "data": {
      "image/png": "[encoded data removed]",
      "text/plain": [
       "<Figure size 432x288 with 1 Axes>"
      ]
     },
     "metadata": {
      "needs_background": "light"
     },
     "output_type": "display_data"
    }
   ],
   "source": [
    "# 3b\n",
    "bin_width = 20 # (ms)\n",
    "#====================================================#\n",
    "# YOUR CODE HERE:\n",
    "#   Plot the spike histogram\n",
    "#====================================================#\n",
    "b = [i * 20 for i in range(50)] # Creates bin list\n",
    "hist_values = np.zeros(49) # Creates empty numpy array\n",
    "\n",
    "for trial in range(num_trials):\n",
    "    hist, bin_edges = np.histogram(inhom_spike_times[trial], b)\n",
    "    hist_values = np.add(hist_values, hist)\n",
    "\n",
    "# Plot the tuning curve\n",
    "x_axis = np.linspace(0, 1000, 1000)\n",
    "tuning_x = np.empty(0) # Stores tuning curve parameters\n",
    "\n",
    "for x in np.linspace(0, 1, 1000):\n",
    "    tuning_x = np.append(tuning_x, (x ** 2) * np.pi)\n",
    "    \n",
    "tuning_y = r_0 + (r_max - r_0) * np.cos(tuning_x - s_max)\n",
    "\n",
    "# Divide by 100 (trials), divide by 0.02 (20 milliseconds)\n",
    "hist_values = np.divide(hist_values, 2.0) \n",
    "plt.bar(bin_edges[:-1], hist_values, width = bin_width, align = \"edge\")\n",
    "\n",
    "# Plot the tuning curve\n",
    "plt.plot(x_axis, tuning_y, c = \"red\")\n",
    "plt.title(\"Firing Rate Histogram\")\n",
    "#====================================================#\n",
    "# END YOUR CODE\n",
    "#====================================================#\n",
    "plt.ylabel('spikes/s')\n",
    "plt.xlabel('Time(ms)')"
   ]
  },
  {
   "cell_type": "markdown",
   "metadata": {},
   "source": [
    "#### Question:\n",
    "Does the spike histogram agree with the expected firing rate profile?"
   ]
  },
  {
   "cell_type": "markdown",
   "metadata": {},
   "source": [
    "#### Your Answer: It appears to agree reasonably well with the expected firing rate profile. The rate increases to a maximum between 600-800 ms, and then levels off."
   ]
  },
  {
   "cell_type": "markdown",
   "metadata": {},
   "source": [
    "### (c) (6 points) Count distribution\n",
    "  For each trial, count the number of spikes across the entire trial.\n",
    "  Plot the normalized distribution of spike counts.  Fit a Poisson\n",
    "  distribution to this empirical distribution and plot it on top of\n",
    "  the empirical distribution.  "
   ]
  },
  {
   "cell_type": "code",
   "execution_count": 6,
   "metadata": {},
   "outputs": [
    {
     "data": {
      "image/png": "[encoded data removed]",
      "text/plain": [
       "<Figure size 432x288 with 1 Axes>"
      ]
     },
     "metadata": {
      "needs_background": "light"
     },
     "output_type": "display_data"
    }
   ],
   "source": [
    "#====================================================#\n",
    "# YOUR CODE HERE:\n",
    "#   Plot the normalized distribution of spike counts\n",
    "#====================================================#\n",
    "spike_counts = [] # Stores spike count for all trials\n",
    "\n",
    "for trial in range(num_trials):\n",
    "    spike_counts.append(len(inhom_spike_times[trial])) # Append trial count\n",
    "\n",
    "mu = sum(spike_counts) / float(len(spike_counts)) # Calculate mean count\n",
    "k = [i for i in range(70)]\n",
    "poison = [((mu ** k) * np.exp(-mu)) / np.math.factorial(k) for k in k]\n",
    "\n",
    "b = [i*2 for i in range(35)] # Create bin list\n",
    "plt.hist(spike_counts, bins = b, density = True) # Plot histogram of spike counts\n",
    "plt.plot(k, poison) # Plot the Poisson distribution\n",
    "#====================================================#\n",
    "# END YOUR CODE\n",
    "#====================================================#\n",
    "plt.xlabel('spike count')\n",
    "plt.ylabel('p(spikecount)')\n",
    "plt.show()"
   ]
  },
  {
   "cell_type": "markdown",
   "metadata": {},
   "source": [
    "#### Question:\n",
    "Should we expect the spike counts to be Poisson-distributed?"
   ]
  },
  {
   "cell_type": "markdown",
   "metadata": {},
   "source": [
    "#### Your Answer: I believe we should expect the spike counts to be Poisson-distributed. As the data originates from the inhomogeneous Poisson process, the spikes are still distributed according to a Poisson distribution."
   ]
  },
  {
   "cell_type": "markdown",
   "metadata": {},
   "source": [
    "### (d) (5 points) ISI distribution\n",
    "  Plot the normalized distribution of ISIs.  Fit an exponential\n",
    "  distribution to the empirical distribution and plot it on top of the\n",
    "  empirical distribution. "
   ]
  },
  {
   "cell_type": "code",
   "execution_count": 7,
   "metadata": {},
   "outputs": [
    {
     "data": {
      "image/png": "[encoded data removed]",
      "text/plain": [
       "<Figure size 432x288 with 1 Axes>"
      ]
     },
     "metadata": {
      "needs_background": "light"
     },
     "output_type": "display_data"
    }
   ],
   "source": [
    "#====================================================#\n",
    "# YOUR CODE HERE:\n",
    "#   Plot the normalized distribution of ISIs\n",
    "#====================================================#\n",
    "isi_times = [] # List to keep track of all ISI times\n",
    "for trial in range(num_trials):\n",
    "    train = inhom_spike_times[trial] # Obtains the spike train for one trial\n",
    "    \n",
    "    # Calculate ISI intervals from spike times\n",
    "    for i in range(len(train)):\n",
    "        if i == 0:\n",
    "            isi_times.append(train[i]) # Append first time\n",
    "        else:\n",
    "            t_isi = train[i] - train[i - 1] # Calculate the interspike interval\n",
    "            isi_times.append(t_isi) # Append ISI time to list\n",
    "\n",
    "mean_isi = sum(isi_times) / len(isi_times) # Calculates average ISI time\n",
    "l = 1.0 / mean_isi # Exponential lambda is reciprocal of the mean\n",
    "x = np.linspace(0, 200, 400)\n",
    "exponential = l * np.exp(-l * x) # Calculates exponential distribution\n",
    "\n",
    "b = [i * 2 for i in range(100)]\n",
    "plt.hist(isi_times, bins = b, density = True) # Plot histogram of ISI times\n",
    "plt.plot(x, exponential) # Plot exponential distribution        \n",
    "#====================================================#\n",
    "# END YOUR CODE\n",
    "#====================================================#\n",
    "plt.xlabel('ISI (ms)')\n",
    "plt.ylabel('P(ISI)')\n",
    "plt.show()"
   ]
  },
  {
   "cell_type": "markdown",
   "metadata": {},
   "source": [
    "#### Question: \n",
    "Should we expect the ISIs to be exponentially-distributed?\n",
    "(Note, it is possible for the  empirical distribution to strongly resemble an exponential distribution even if the data aren't exponentially distributed.)"
   ]
  },
  {
   "cell_type": "markdown",
   "metadata": {},
   "source": [
    "#### Your Answer: While we do see the empirical distribution to strongly resemble an exponential distribution, we know from our course concepts that for an inhomogeneous Poisson process, the ISI times are not exponentially distributed."
   ]
  }
 ],
 "metadata": {
  "kernelspec": {
   "display_name": "Python 3",
   "language": "python",
   "name": "python3"
  },
  "language_info": {
   "codemirror_mode": {
    "name": "ipython",
    "version": 3
   },
   "file_extension": ".py",
   "mimetype": "text/x-python",
   "name": "python",
   "nbconvert_exporter": "python",
   "pygments_lexer": "ipython3",
   "version": "3.7.6"
  }
 },
 "nbformat": 4,
 "nbformat_minor": 2
}
